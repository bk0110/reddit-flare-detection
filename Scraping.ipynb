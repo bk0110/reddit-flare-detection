{
 "cells": [
  {
   "cell_type": "code",
   "execution_count": 25,
   "metadata": {},
   "outputs": [],
   "source": [
    "import praw\n",
    "import pandas as pd\n",
    "\n",
    "\"\"\"\n",
    "Scraping posts from r/india using reddit API PRAW\n",
    "\"\"\"\n",
    "\n",
    "#Creating a read-only Reddit instance\n",
    "r=praw.Reddit(client_id='CfAnZNaCtwGKtQ', client_secret='CdMiYf44PL1FrmfK8j0oZgVH-J4', user_agent='srk_test_0110')\n",
    "\n",
    "#Getting subreddit reddit India\n",
    "subr=r.subreddit('india')\n",
    "\n",
    "#Scraping top 500 hot posts from 11 flairs of reddit India\n",
    "all_subreddits=['Coronavirus','AskIndia','Politics','Non-Political','Policy/Economy','Science/Technology','Photography','Reddiquette','Business/Finance','Food']\n",
    "\n",
    "all_hot_posts=[]\n",
    "for subreddits in all_subreddits:\n",
    "    for submission in subr.search(subreddits,limit=100):\n",
    "        post={\n",
    "            \"title\": submission.title,\n",
    "            \"description\": submission.selftext,\n",
    "            \"id\": submission.id,\n",
    "            \"url\": submission.url,\n",
    "            \"author\": submission.author,\n",
    "            \"flair\": submission.link_flair_text\n",
    "        }\n",
    "        all_hot_posts.append(post)\n",
    "    \n",
    "#storing the information in a .csv format\n",
    "all_hot_posts = pd.DataFrame(all_hot_posts,columns=['title', 'description', 'id', 'url', 'author','flair'])\n",
    "all_hot_posts.to_csv('redditIndia_scrapedData_srk.csv', index=False) \n",
    "\n"
   ]
  },
  {
   "cell_type": "code",
   "execution_count": null,
   "metadata": {},
   "outputs": [],
   "source": []
  }
 ],
 "metadata": {
  "kernelspec": {
   "display_name": "Python 3",
   "language": "python",
   "name": "python3"
  },
  "language_info": {
   "codemirror_mode": {
    "name": "ipython",
    "version": 3
   },
   "file_extension": ".py",
   "mimetype": "text/x-python",
   "name": "python",
   "nbconvert_exporter": "python",
   "pygments_lexer": "ipython3",
   "version": "3.7.6"
  }
 },
 "nbformat": 4,
 "nbformat_minor": 4
}
